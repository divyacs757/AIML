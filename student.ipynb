{
 "cells": [
  {
   "cell_type": "code",
   "execution_count": 150,
   "id": "90f8ab20-045f-4a63-a8e9-39649b307149",
   "metadata": {},
   "outputs": [
    {
     "name": "stdout",
     "output_type": "stream",
     "text": [
      "   roll_no    name  age  Marks_math  marks_eng gender\n",
      "0      101    riya   17          88         92      f\n",
      "1      102   arjun   18          75         82      m\n",
      "2      103   sneha   17          90         85      f\n",
      "3      104  rakesh   19          65         70      m\n",
      "4      105   aditi   18          95         88      f\n"
     ]
    }
   ],
   "source": [
    "from functools import reduce\n",
    "import pandas as pd\n",
    "df=pd.read_csv('Downloads/students.csv')\n",
    "print(df)"
   ]
  },
  {
   "cell_type": "code",
   "execution_count": 151,
   "id": "1e7e9f7d-68ce-47dd-9f90-a6ad05256731",
   "metadata": {},
   "outputs": [
    {
     "name": "stdout",
     "output_type": "stream",
     "text": [
      "     name  marks_eng\n",
      "0    riya         92\n",
      "1   arjun         82\n",
      "2   sneha         85\n",
      "3  rakesh         70\n",
      "4   aditi         88\n"
     ]
    }
   ],
   "source": [
    "print(df[['name','marks_eng']])"
   ]
  },
  {
   "cell_type": "code",
   "execution_count": 152,
   "id": "965623e7-0d58-4c01-a4e8-b990a6bbddf5",
   "metadata": {},
   "outputs": [
    {
     "name": "stdout",
     "output_type": "stream",
     "text": [
      "   roll_no    name  age  Marks_math  marks_eng gender  total\n",
      "0      101    riya   17          88         92      f    180\n",
      "1      102   arjun   18          75         82      m    157\n",
      "2      103   sneha   17          90         85      f    175\n",
      "3      104  rakesh   19          65         70      m    135\n",
      "4      105   aditi   18          95         88      f    183\n"
     ]
    }
   ],
   "source": [
    "df['total']=df[['Marks_math','marks_eng']].sum(axis=1)\n",
    "print(df)"
   ]
  },
  {
   "cell_type": "code",
   "execution_count": 153,
   "id": "a787f9b1-48f7-4a71-a1fa-28574fe569dc",
   "metadata": {},
   "outputs": [
    {
     "name": "stdout",
     "output_type": "stream",
     "text": [
      "0    180\n",
      "1    157\n",
      "2    175\n",
      "3    135\n",
      "4    183\n",
      "Name: total, dtype: int64\n"
     ]
    }
   ],
   "source": [
    "#or\n",
    "df['total']=df['Marks_math'] + df['marks_eng']\n",
    "print(df['total'])"
   ]
  },
  {
   "cell_type": "code",
   "execution_count": 154,
   "id": "66327e09-f1f0-4272-977b-c603ef1be8a8",
   "metadata": {},
   "outputs": [
    {
     "name": "stdout",
     "output_type": "stream",
     "text": [
      "82.6\n"
     ]
    }
   ],
   "source": [
    "print(df['Marks_math'].mean())"
   ]
  },
  {
   "cell_type": "code",
   "execution_count": 155,
   "id": "f7fe354d-063e-4533-8fb2-54af8d6fb082",
   "metadata": {},
   "outputs": [
    {
     "name": "stdout",
     "output_type": "stream",
     "text": [
      "   roll_no   name  age  Marks_math  marks_eng gender  total\n",
      "0      101   riya   17          88         92      f    180\n",
      "2      103  sneha   17          90         85      f    175\n",
      "4      105  aditi   18          95         88      f    183\n"
     ]
    }
   ],
   "source": [
    "a=df[df['gender']=='f']\n",
    "print(a)"
   ]
  },
  {
   "cell_type": "code",
   "execution_count": 156,
   "id": "b8745b7f-96ba-4c61-90b9-6e387607ae7e",
   "metadata": {},
   "outputs": [
    {
     "name": "stdout",
     "output_type": "stream",
     "text": [
      "   roll_no    name  age  Marks_math  marks_eng gender  total\n",
      "4      105   aditi   18          95         88      f    183\n",
      "2      103   sneha   17          90         85      f    175\n",
      "0      101    riya   17          88         92      f    180\n",
      "1      102   arjun   18          75         82      m    157\n",
      "3      104  rakesh   19          65         70      m    135\n"
     ]
    }
   ],
   "source": [
    "a=df.sort_values(by='Marks_math',ascending=False)\n",
    "print(a)"
   ]
  },
  {
   "cell_type": "code",
   "execution_count": 157,
   "id": "2455e9f6-28c7-474d-93db-957348972907",
   "metadata": {},
   "outputs": [
    {
     "name": "stdout",
     "output_type": "stream",
     "text": [
      "   roll_no    name  age  Marks_math  marks_eng  gender  total\n",
      "0      101    riya   17          88         92  Female    180\n",
      "1      102   arjun   18          75         82    Male    157\n",
      "2      103   sneha   17          90         85  Female    175\n",
      "3      104  rakesh   19          65         70    Male    135\n",
      "4      105   aditi   18          95         88  Female    183\n"
     ]
    }
   ],
   "source": [
    "df['gender']=df['gender'].map({'f':'Female','m':'Male'})\n",
    "print(df)"
   ]
  },
  {
   "cell_type": "code",
   "execution_count": 158,
   "id": "760832fe-3c35-4ef0-984b-34fb1e3f1f94",
   "metadata": {},
   "outputs": [
    {
     "name": "stdout",
     "output_type": "stream",
     "text": [
      "   roll_no    name  age  Marks_math  marks_eng  gender  total result\n",
      "0      101    riya   17          88         92  Female    180   pass\n",
      "1      102   arjun   18          75         82    Male    157   pass\n",
      "2      103   sneha   17          90         85  Female    175   pass\n",
      "3      104  rakesh   19          65         70    Male    135   fail\n",
      "4      105   aditi   18          95         88  Female    183   pass\n"
     ]
    }
   ],
   "source": [
    "df['result']=df['total'].apply(lambda x:'pass' if x>150 else 'fail')\n",
    "print(df)"
   ]
  },
  {
   "cell_type": "code",
   "execution_count": 159,
   "id": "9bf3a170-79c2-4952-8094-9ed4083d8d7a",
   "metadata": {},
   "outputs": [
    {
     "name": "stdout",
     "output_type": "stream",
     "text": [
      "['RIYA', 'ARJUN', 'SNEHA', 'RAKESH', 'ADITI']\n"
     ]
    }
   ],
   "source": [
    "upper=list(map(lambda x: x.upper(),df['name']))\n",
    "print(upper)"
   ]
  },
  {
   "cell_type": "code",
   "execution_count": 160,
   "id": "8c3337f6-1f32-4090-8354-7f865dee4d85",
   "metadata": {},
   "outputs": [
    {
     "name": "stdout",
     "output_type": "stream",
     "text": [
      "   roll_no    name  age  Marks_math  marks_eng  gender  total result\n",
      "0      101    RIYA   17          88         92  Female    180   pass\n",
      "1      102   ARJUN   18          75         82    Male    157   pass\n",
      "2      103   SNEHA   17          90         85  Female    175   pass\n",
      "3      104  RAKESH   19          65         70    Male    135   fail\n",
      "4      105   ADITI   18          95         88  Female    183   pass\n"
     ]
    }
   ],
   "source": [
    "df['name']=df['name'].map(str.upper)\n",
    "print(df)"
   ]
  },
  {
   "cell_type": "code",
   "execution_count": 161,
   "id": "f2024a00-ba68-4d04-8b99-63e6363e694c",
   "metadata": {},
   "outputs": [
    {
     "name": "stdout",
     "output_type": "stream",
     "text": [
      "[88, 90, 95]\n"
     ]
    }
   ],
   "source": [
    "c=list(filter(lambda x: x>=80,df['Marks_math']))\n",
    "print(c)"
   ]
  },
  {
   "cell_type": "code",
   "execution_count": 162,
   "id": "4d1c552d-2bad-4108-ac8b-8dc4440ff307",
   "metadata": {},
   "outputs": [
    {
     "name": "stdout",
     "output_type": "stream",
     "text": [
      "   roll_no    name  age  Marks_math  marks_eng  gender  total result gread\n",
      "0      101    RIYA   17          88         92  Female    180   pass     a\n",
      "1      102   ARJUN   18          75         82    Male    157   pass     b\n",
      "2      103   SNEHA   17          90         85  Female    175   pass     a\n",
      "3      104  RAKESH   19          65         70    Male    135   fail     c\n",
      "4      105   ADITI   18          95         88  Female    183   pass     a\n"
     ]
    }
   ],
   "source": [
    "df['gread']=df['total'].apply(lambda x:'a' if x>=170 else 'b' if x>=150 else 'c' )\n",
    "print(df)"
   ]
  },
  {
   "cell_type": "code",
   "execution_count": 163,
   "id": "d4a0d700-607d-4875-8ad6-a3905f223b10",
   "metadata": {},
   "outputs": [
    {
     "name": "stdout",
     "output_type": "stream",
     "text": [
      "413\n"
     ]
    }
   ],
   "source": [
    "from functools import reduce\n",
    "e=reduce(lambda x,y: x + y,df['Marks_math'])\n",
    "print(e)"
   ]
  },
  {
   "cell_type": "code",
   "execution_count": 164,
   "id": "4d818fb2-0f99-4ec4-9051-48ae805c0a5d",
   "metadata": {},
   "outputs": [
    {
     "name": "stdout",
     "output_type": "stream",
     "text": [
      "2\n"
     ]
    }
   ],
   "source": [
    "count=(df['age']<18).sum()\n",
    "print(count)"
   ]
  },
  {
   "cell_type": "code",
   "execution_count": 168,
   "id": "92b78ae9-b4af-4d9d-85ab-4e51007143d1",
   "metadata": {},
   "outputs": [
    {
     "name": "stdout",
     "output_type": "stream",
     "text": [
      "   roll_no    name  age  Marks_math  marks_eng  gender  total result gread  \\\n",
      "0      101    RIYA   17          88         92  Female    180   pass     a   \n",
      "1      102   ARJUN   18          75         82    Male    157   pass     b   \n",
      "2      103   SNEHA   17          90         85  Female    175   pass     a   \n",
      "3      104  RAKESH   19          65         70    Male    135   fail     c   \n",
      "4      105   ADITI   18          95         88  Female    183   pass     a   \n",
      "\n",
      "   avg  \n",
      "0  NaN  \n",
      "1  NaN  \n",
      "2  NaN  \n",
      "3  NaN  \n",
      "4  NaN  \n"
     ]
    }
   ],
   "source": [
    "df['avg']=df[['Marks_math','marks_eng']].mean()\n",
    "print(df)"
   ]
  },
  {
   "cell_type": "code",
   "execution_count": 177,
   "id": "0e11005e-c792-4da8-b5c4-95c95cfd174a",
   "metadata": {},
   "outputs": [
    {
     "name": "stdout",
     "output_type": "stream",
     "text": [
      "   roll_no    name  age  Marks_math  marks_eng  gender  total result gread  \\\n",
      "0      101    RIYA   17          88         92  Female    180   pass     a   \n",
      "1      102   ARJUN   18          75         82    Male    157   pass     b   \n",
      "2      103   SNEHA   17          90         85  Female    175   pass     a   \n",
      "3      104  RAKESH   19          65         70    Male    135   fail     c   \n",
      "4      105   ADITI   18          95         88  Female    183   pass     a   \n",
      "\n",
      "    avg  \n",
      "0  90.0  \n",
      "1  78.5  \n",
      "2  87.5  \n",
      "3  67.5  \n",
      "4  91.5  \n"
     ]
    }
   ],
   "source": [
    "\n",
    "df['avg']=(df['Marks_math']+df['marks_eng'])/2\n",
    "print(df)"
   ]
  },
  {
   "cell_type": "code",
   "execution_count": 183,
   "id": "5a0599a0-9420-45ac-9734-68a288540cfc",
   "metadata": {},
   "outputs": [
    {
     "name": "stdout",
     "output_type": "stream",
     "text": [
      "   roll_no    name  age  Marks_math  marks_eng  gender  total result gread  \\\n",
      "0      101    RIYA   17          88         92  Female    180   pass     a   \n",
      "1      102   ARJUN   18          75         82    Male    157   pass     b   \n",
      "3      104  RAKESH   19          65         70    Male    135   fail     c   \n",
      "\n",
      "    avg  \n",
      "0  90.0  \n",
      "1  78.5  \n",
      "3  67.5  \n"
     ]
    }
   ],
   "source": [
    "result=df[df['marks_eng']>df['Marks_math']]\n",
    "print(result)"
   ]
  },
  {
   "cell_type": "code",
   "execution_count": 186,
   "id": "58f1a5d7-5507-4173-bb00-bdf829073d04",
   "metadata": {},
   "outputs": [
    {
     "data": {
      "text/plain": [
       "gender\n",
       "Female    89.666667\n",
       "Male      73.000000\n",
       "Name: avg, dtype: float64"
      ]
     },
     "execution_count": 186,
     "metadata": {},
     "output_type": "execute_result"
    }
   ],
   "source": [
    "df.groupby('gender')['avg'].mean()"
   ]
  },
  {
   "cell_type": "code",
   "execution_count": 187,
   "id": "bcb0c85f-d3e7-4077-af07-d9056fe827c2",
   "metadata": {},
   "outputs": [
    {
     "data": {
      "text/plain": [
       "183"
      ]
     },
     "execution_count": 187,
     "metadata": {},
     "output_type": "execute_result"
    }
   ],
   "source": [
    "df['total'].max()"
   ]
  },
  {
   "cell_type": "code",
   "execution_count": null,
   "id": "78c1fada-c1b0-4e68-b987-33d3ae481443",
   "metadata": {},
   "outputs": [],
   "source": []
  }
 ],
 "metadata": {
  "kernelspec": {
   "display_name": "Python 3 (ipykernel)",
   "language": "python",
   "name": "python3"
  },
  "language_info": {
   "codemirror_mode": {
    "name": "ipython",
    "version": 3
   },
   "file_extension": ".py",
   "mimetype": "text/x-python",
   "name": "python",
   "nbconvert_exporter": "python",
   "pygments_lexer": "ipython3",
   "version": "3.12.7"
  }
 },
 "nbformat": 4,
 "nbformat_minor": 5
}
