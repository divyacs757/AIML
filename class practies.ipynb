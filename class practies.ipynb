{
 "cells": [
  {
   "cell_type": "code",
   "execution_count": 5,
   "id": "d3d3f2cd-2798-479d-a142-43deb953947e",
   "metadata": {},
   "outputs": [],
   "source": [
    "import matplotlib.pyplot as plt\n",
    "subper={\"pyhton\":93,\"dsp\":86,\"dbms\":80,\"se\":90}\n",
    "subjects=list(subper.keys())\n",
    "percentage=list(subper.values())\n",
    "\n"
   ]
  },
  {
   "cell_type": "code",
   "execution_count": 3,
   "id": "f087bed3-c276-48db-8c5f-4f3822cfb630",
   "metadata": {},
   "outputs": [
    {
     "data": {
      "text/plain": [
       "(['pyhton', 'dsp', 'dbms', 'se'], [93, 86, 80, 90])"
      ]
     },
     "execution_count": 3,
     "metadata": {},
     "output_type": "execute_result"
    }
   ],
   "source": [
    "subjects,percentage\n"
   ]
  },
  {
   "cell_type": "code",
   "execution_count": 10,
   "id": "3454c1fe-52f9-41f4-bf43-ae710e79b5b6",
   "metadata": {},
   "outputs": [
    {
     "data": {
      "image/png": "[encoded data removed]",
      "text/plain": [
       "<Figure size 640x480 with 1 Axes>"
      ]
     },
     "metadata": {},
     "output_type": "display_data"
    }
   ],
   "source": [
    "plt.bar(subjects,percentage)\n",
    "plt.title('subeject persentage')\n",
    "plt.xlabel('subjects')\n",
    "plt.ylabel('persentage')\n",
    "plt.show()"
   ]
  },
  {
   "cell_type": "code",
   "execution_count": 2,
   "id": "65b42e0f-3bbd-42f1-b999-ea1f102e78c9",
   "metadata": {},
   "outputs": [
    {
     "data": {
      "text/plain": [
       "16"
      ]
     },
     "execution_count": 2,
     "metadata": {},
     "output_type": "execute_result"
    }
   ],
   "source": [
    "result=lambda x: x**2\n",
    "result(4)"
   ]
  },
  {
   "cell_type": "code",
   "execution_count": 4,
   "id": "a22367ae-1231-47ac-8010-23f7d86d8fb9",
   "metadata": {},
   "outputs": [
    {
     "data": {
      "text/plain": [
       "[1, 4, 9, 16, 25]"
      ]
     },
     "execution_count": 4,
     "metadata": {},
     "output_type": "execute_result"
    }
   ],
   "source": [
    "def squar(x):\n",
    "    return x**2\n",
    "l1=[1,2,3,4,5]\n",
    "result=list(map(squar,l1))\n",
    "result"
   ]
  },
  {
   "cell_type": "code",
   "execution_count": 9,
   "id": "bc75c377-6c36-45e3-8cca-783a4d343d39",
   "metadata": {},
   "outputs": [
    {
     "data": {
      "text/plain": [
       "15"
      ]
     },
     "execution_count": 9,
     "metadata": {},
     "output_type": "execute_result"
    }
   ],
   "source": [
    "from functools import reduce\n",
    "def add (x,y):\n",
    "    return x+y\n",
    "l1=[1,2,3,4,5]\n",
    "result=reduce(add,l1)\n",
    "result"
   ]
  },
  {
   "cell_type": "code",
   "execution_count": 10,
   "id": "cc50ad0e-0f57-417d-89b2-56daed2cfcb6",
   "metadata": {},
   "outputs": [
    {
     "name": "stdout",
     "output_type": "stream",
     "text": [
      "3.0\n"
     ]
    }
   ],
   "source": [
    "from functools import reduce\n",
    "def mean (x,y):\n",
    "    return x+y\n",
    "l1=[1,2,3,4,5]\n",
    "result=reduce(mean,l1)\n",
    "print(result/5)\n"
   ]
  },
  {
   "cell_type": "code",
   "execution_count": 11,
   "id": "4d17c142-4bf7-4779-b849-e9e4d2348e1f",
   "metadata": {},
   "outputs": [
    {
     "data": {
      "text/plain": [
       "15"
      ]
     },
     "execution_count": 11,
     "metadata": {},
     "output_type": "execute_result"
    }
   ],
   "source": [
    "from functools import reduce\n",
    "l1=[1,2,3,4,5]\n",
    "result=(reduce(lambda x,y: x+y,l1))\n",
    "result\n"
   ]
  },
  {
   "cell_type": "code",
   "execution_count": 12,
   "id": "99fa8896-acbd-47c5-880a-e2634e74102e",
   "metadata": {},
   "outputs": [
    {
     "data": {
      "text/plain": [
       "-13"
      ]
     },
     "execution_count": 12,
     "metadata": {},
     "output_type": "execute_result"
    }
   ],
   "source": [
    "from functools import reduce\n",
    "l1=[1,2,3,4,5]\n",
    "result=reduce(lambda x,y: x-y,l1)\n",
    "result"
   ]
  },
  {
   "cell_type": "code",
   "execution_count": 14,
   "id": "92a08c84-f30a-40f6-8c4c-fce53bd93d38",
   "metadata": {},
   "outputs": [
    {
     "data": {
      "text/plain": [
       "(14, 24, 34, 44)"
      ]
     },
     "execution_count": 14,
     "metadata": {},
     "output_type": "execute_result"
    }
   ],
   "source": [
    "def add(x):\n",
    "    return x+4\n",
    "l1=[10,20,30,40]\n",
    "result=tuple(map(add,l1))\n",
    "result"
   ]
  },
  {
   "cell_type": "code",
   "execution_count": 15,
   "id": "917e0503-1131-4be5-9d02-467a46512f3b",
   "metadata": {},
   "outputs": [
    {
     "data": {
      "text/plain": [
       "[12, 22, 32, 42]"
      ]
     },
     "execution_count": 15,
     "metadata": {},
     "output_type": "execute_result"
    }
   ],
   "source": [
    "l=[10,20,30,40]\n",
    "result=list(map(lambda x: x+2,l))\n",
    "result"
   ]
  },
  {
   "cell_type": "code",
   "execution_count": 17,
   "id": "74bd2a92-fb0c-4321-be24-e123e7583c61",
   "metadata": {},
   "outputs": [
    {
     "data": {
      "text/plain": [
       "[153, 978, 297]"
      ]
     },
     "execution_count": 17,
     "metadata": {},
     "output_type": "execute_result"
    }
   ],
   "source": [
    "l1=[12,23,45,153,978,297,45,43]\n",
    "result=list(filter(lambda x: x>100,l1))\n",
    "result"
   ]
  },
  {
   "cell_type": "code",
   "execution_count": 18,
   "id": "c36a2b04-b5b6-4354-afab-b19b5cc8dd68",
   "metadata": {},
   "outputs": [
    {
     "data": {
      "text/plain": [
       "[1, 4, 9, 16, 25]"
      ]
     },
     "execution_count": 18,
     "metadata": {},
     "output_type": "execute_result"
    }
   ],
   "source": [
    "def mul(x):\n",
    "    return x**2\n",
    "l1=[1,2,3,4,5]\n",
    "result=list(map(mul,l1))\n",
    "result"
   ]
  },
  {
   "cell_type": "code",
   "execution_count": 22,
   "id": "9fec3539-edb2-4545-8a59-2a640fb2d0b8",
   "metadata": {},
   "outputs": [
    {
     "name": "stdout",
     "output_type": "stream",
     "text": [
      "   python  dsp\n",
      "0      40   34\n",
      "1      39   56\n",
      "2      45   78\n",
      "3      67   54\n"
     ]
    }
   ],
   "source": [
    "import pandas as pd\n",
    "marks= {\n",
    "  \"python\": [40,39,45,67],\n",
    "  \"dsp\": [34,56,78,54]\n",
    "}\n",
    "df= pd.DataFrame(marks)\n",
    "print(df)"
   ]
  },
  {
   "cell_type": "code",
   "execution_count": 24,
   "id": "cdb522ba-f8f9-463c-895f-fa4d398e5fdd",
   "metadata": {},
   "outputs": [
    {
     "data": {
      "text/html": [
       "<div>\n",
       "<style scoped>\n",
       "    .dataframe tbody tr th:only-of-type {\n",
       "        vertical-align: middle;\n",
       "    }\n",
       "\n",
       "    .dataframe tbody tr th {\n",
       "        vertical-align: top;\n",
       "    }\n",
       "\n",
       "    .dataframe thead th {\n",
       "        text-align: right;\n",
       "    }\n",
       "</style>\n",
       "<table border=\"1\" class=\"dataframe\">\n",
       "  <thead>\n",
       "    <tr style=\"text-align: right;\">\n",
       "      <th></th>\n",
       "      <th>python</th>\n",
       "      <th>dsp</th>\n",
       "    </tr>\n",
       "  </thead>\n",
       "  <tbody>\n",
       "    <tr>\n",
       "      <th>1</th>\n",
       "      <td>40</td>\n",
       "      <td>34</td>\n",
       "    </tr>\n",
       "    <tr>\n",
       "      <th>2</th>\n",
       "      <td>39</td>\n",
       "      <td>56</td>\n",
       "    </tr>\n",
       "    <tr>\n",
       "      <th>3</th>\n",
       "      <td>45</td>\n",
       "      <td>78</td>\n",
       "    </tr>\n",
       "    <tr>\n",
       "      <th>4</th>\n",
       "      <td>67</td>\n",
       "      <td>54</td>\n",
       "    </tr>\n",
       "  </tbody>\n",
       "</table>\n",
       "</div>"
      ],
      "text/plain": [
       "   python  dsp\n",
       "1      40   34\n",
       "2      39   56\n",
       "3      45   78\n",
       "4      67   54"
      ]
     },
     "execution_count": 24,
     "metadata": {},
     "output_type": "execute_result"
    }
   ],
   "source": [
    "import pandas as pd\n",
    "marks= {\n",
    "  \"python\": [40,39,45,67],\n",
    "  \"dsp\": [34,56,78,54]\n",
    "}\n",
    "df= pd.DataFrame(marks)\n",
    "df.index=[1,2,3,4]\n",
    "df"
   ]
  },
  {
   "cell_type": "code",
   "execution_count": 40,
   "id": "b1e49841-dccd-49fc-b77b-b6fc634a0a5a",
   "metadata": {},
   "outputs": [
    {
     "data": {
      "text/html": [
       "<div>\n",
       "<style scoped>\n",
       "    .dataframe tbody tr th:only-of-type {\n",
       "        vertical-align: middle;\n",
       "    }\n",
       "\n",
       "    .dataframe tbody tr th {\n",
       "        vertical-align: top;\n",
       "    }\n",
       "\n",
       "    .dataframe thead th {\n",
       "        text-align: right;\n",
       "    }\n",
       "</style>\n",
       "<table border=\"1\" class=\"dataframe\">\n",
       "  <thead>\n",
       "    <tr style=\"text-align: right;\">\n",
       "      <th></th>\n",
       "      <th>python</th>\n",
       "      <th>dsp</th>\n",
       "    </tr>\n",
       "  </thead>\n",
       "  <tbody>\n",
       "    <tr>\n",
       "      <th>1</th>\n",
       "      <td>40</td>\n",
       "      <td>34</td>\n",
       "    </tr>\n",
       "    <tr>\n",
       "      <th>2</th>\n",
       "      <td>39</td>\n",
       "      <td>56</td>\n",
       "    </tr>\n",
       "    <tr>\n",
       "      <th>3</th>\n",
       "      <td>45</td>\n",
       "      <td>78</td>\n",
       "    </tr>\n",
       "    <tr>\n",
       "      <th>4</th>\n",
       "      <td>67</td>\n",
       "      <td>54</td>\n",
       "    </tr>\n",
       "  </tbody>\n",
       "</table>\n",
       "</div>"
      ],
      "text/plain": [
       "   python  dsp\n",
       "1      40   34\n",
       "2      39   56\n",
       "3      45   78\n",
       "4      67   54"
      ]
     },
     "execution_count": 40,
     "metadata": {},
     "output_type": "execute_result"
    }
   ],
   "source": [
    "df1=df.copy()\n",
    "df1\n"
   ]
  },
  {
   "cell_type": "code",
   "execution_count": 33,
   "id": "d88dc4fd-2ce8-49c1-bb99-361b173e9e91",
   "metadata": {},
   "outputs": [
    {
     "data": {
      "text/plain": [
       "100"
      ]
     },
     "execution_count": 33,
     "metadata": {},
     "output_type": "execute_result"
    }
   ],
   "source": [
    "from functools import reduce\n",
    "l2=[10,20,30,40]\n",
    "r=(reduce(lambda x,y: x+y,l2))\n",
    "r"
   ]
  },
  {
   "cell_type": "code",
   "execution_count": 32,
   "id": "345397d4-25a2-4764-82da-3d1c6c6c87e5",
   "metadata": {},
   "outputs": [
    {
     "data": {
      "text/plain": [
       "15"
      ]
     },
     "execution_count": 32,
     "metadata": {},
     "output_type": "execute_result"
    }
   ],
   "source": [
    "from functools import reduce\n",
    "l1=[1,2,3,4,5]\n",
    "result=(reduce(lambda x,y: x+y,l1))\n",
    "result"
   ]
  },
  {
   "cell_type": "code",
   "execution_count": 34,
   "id": "d88fb2d9-de62-4c63-aca8-c0f7c8ff9f31",
   "metadata": {},
   "outputs": [
    {
     "data": {
      "text/plain": [
       "[8, 18, 28, 38, 48]"
      ]
     },
     "execution_count": 34,
     "metadata": {},
     "output_type": "execute_result"
    }
   ],
   "source": [
    "def sub(x):\n",
    "    return x-2\n",
    "l1=[10,20,30,40,50]\n",
    "result=list(map(sub,l1))\n",
    "result"
   ]
  },
  {
   "cell_type": "code",
   "execution_count": 36,
   "id": "ed867467-8abb-48f9-90e6-9cd60d1ededd",
   "metadata": {},
   "outputs": [
    {
     "name": "stdout",
     "output_type": "stream",
     "text": [
      "25.0\n"
     ]
    }
   ],
   "source": [
    "from functools import reduce\n",
    "def add(x,y):\n",
    "    return x+y\n",
    "l1=[10,20,30,40]\n",
    "r=reduce(add,l1)\n",
    "print(r/4)"
   ]
  },
  {
   "cell_type": "code",
   "execution_count": 42,
   "id": "a66de68e-5b07-4301-9eef-d343b5ecc1db",
   "metadata": {},
   "outputs": [
    {
     "data": {
      "text/plain": [
       "100"
      ]
     },
     "execution_count": 42,
     "metadata": {},
     "output_type": "execute_result"
    }
   ],
   "source": [
    "from functools import reduce\n",
    "def mean(x,y):\n",
    "    return x+y\n",
    "list=[10,20,30,40]\n",
    "re=reduce(mean,list)\n",
    "re"
   ]
  },
  {
   "cell_type": "code",
   "execution_count": 49,
   "id": "f2d59136-1ced-43c9-ade1-c234501fc0a6",
   "metadata": {},
   "outputs": [
    {
     "name": "stdout",
     "output_type": "stream",
     "text": [
      "   python  dsp\n",
      "0      40   34\n",
      "1      39   56\n",
      "2      45   78\n",
      "3      67   54\n"
     ]
    }
   ],
   "source": [
    "import pandas as pd\n",
    "marks= {\n",
    "  \"python\": [40,39,45,67],\n",
    "  \"dsp\": [34,56,78,54]\n",
    "}\n",
    "df= pd.DataFrame(marks)\n",
    "print(df)\n"
   ]
  },
  {
   "cell_type": "code",
   "execution_count": 50,
   "id": "54988a11-2d00-44c5-86dd-474f858e2cb5",
   "metadata": {},
   "outputs": [
    {
     "name": "stdout",
     "output_type": "stream",
     "text": [
      "2.5\n"
     ]
    }
   ],
   "source": [
    "from functools import reduce\n",
    "def mean (x,y):\n",
    "    return x+y\n",
    "l1=[1,2,3,4]\n",
    "result=(reduce(mean,l1))\n",
    "print(result/4)"
   ]
  },
  {
   "cell_type": "code",
   "execution_count": null,
   "id": "0a155830-f89f-4115-aaf8-a0c3fed55e9b",
   "metadata": {},
   "outputs": [],
   "source": [
    "l1=[12,23,45,153,978,297,45,43]\n",
    "result=list(filter(lambda x: x>100,l1))\n",
    "result"
   ]
  },
  {
   "cell_type": "code",
   "execution_count": 1,
   "id": "48ebc8d7-a51d-4634-a161-c7aa0cde8d72",
   "metadata": {},
   "outputs": [
    {
     "name": "stdout",
     "output_type": "stream",
     "text": [
      "   python  dsp\n",
      "1      40   34\n",
      "2      39   56\n",
      "3      45   78\n",
      "4      67   54\n"
     ]
    }
   ],
   "source": [
    "import pandas as pd\n",
    "marks= {\n",
    "  \"python\": [40,39,45,67],\n",
    "  \"dsp\": [34,56,78,54]\n",
    "}\n",
    "myvar = pd.DataFrame(marks,index=[1,2,3,4])\n",
    "print(myvar)\n"
   ]
  },
  {
   "cell_type": "code",
   "execution_count": 2,
   "id": "b2d2f62c-efdb-4b1c-8ba7-0c4c1e47ede1",
   "metadata": {},
   "outputs": [
    {
     "data": {
      "text/plain": [
       "4"
      ]
     },
     "execution_count": 2,
     "metadata": {},
     "output_type": "execute_result"
    }
   ],
   "source": [
    "result = lambda x: x**2\n",
    "result(2)"
   ]
  },
  {
   "cell_type": "code",
   "execution_count": 3,
   "id": "cf6e6d80-b079-44aa-8e10-f1063349cd2a",
   "metadata": {},
   "outputs": [
    {
     "data": {
      "text/plain": [
       "[1, 4, 9, 16]"
      ]
     },
     "execution_count": 3,
     "metadata": {},
     "output_type": "execute_result"
    }
   ],
   "source": [
    "def squar(x):\n",
    "    return x**2\n",
    "l1=[1,2,3,4]\n",
    "list1=list(map(squar,l1))\n",
    "list1"
   ]
  },
  {
   "cell_type": "code",
   "execution_count": 4,
   "id": "8cdf67c4-f7cd-4ab1-9c15-a3eabbbec085",
   "metadata": {},
   "outputs": [
    {
     "data": {
      "text/plain": [
       "[2000, 3000]"
      ]
     },
     "execution_count": 4,
     "metadata": {},
     "output_type": "execute_result"
    }
   ],
   "source": [
    "def salary(x):\n",
    "    if x<5000:\n",
    "        return True\n",
    "l=[5000,7000,2000,8000,3000]\n",
    "r=list(filter(salary,l))\n",
    "r"
   ]
  },
  {
   "cell_type": "code",
   "execution_count": 5,
   "id": "eb349ad6-da48-4e3e-8f31-386924df6e4d",
   "metadata": {},
   "outputs": [
    {
     "data": {
      "text/plain": [
       "[2000, 3000]"
      ]
     },
     "execution_count": 5,
     "metadata": {},
     "output_type": "execute_result"
    }
   ],
   "source": [
    "l=[5000,7000,2000,8000,3000]\n",
    "r=list(filter(lambda x: x<5000,l))\n",
    "r"
   ]
  },
  {
   "cell_type": "code",
   "execution_count": 6,
   "id": "ebf62376-d9fd-4b06-bd0b-47ed28e72853",
   "metadata": {},
   "outputs": [
    {
     "data": {
      "text/plain": [
       "140"
      ]
     },
     "execution_count": 6,
     "metadata": {},
     "output_type": "execute_result"
    }
   ],
   "source": [
    "from functools import reduce\n",
    "def add(x,y):\n",
    "    return x+y\n",
    "l1=[20,30,40,50]\n",
    "result=reduce(add,l1)\n",
    "result"
   ]
  },
  {
   "cell_type": "code",
   "execution_count": 7,
   "id": "c2f9c8d0-ee9a-4d24-9049-2b8b79ea538c",
   "metadata": {},
   "outputs": [
    {
     "data": {
      "text/plain": [
       "2.5"
      ]
     },
     "execution_count": 7,
     "metadata": {},
     "output_type": "execute_result"
    }
   ],
   "source": [
    "from functools import reduce\n",
    "def mean(x,y):\n",
    "    return x+y\n",
    "l1=[1,2,3,4]\n",
    "result=reduce(mean,l1)\n",
    "r=result/4\n",
    "r"
   ]
  },
  {
   "cell_type": "code",
   "execution_count": 8,
   "id": "a24d5876-7204-437e-888f-d0dce3fa5f29",
   "metadata": {},
   "outputs": [
    {
     "data": {
      "text/plain": [
       "1200000"
      ]
     },
     "execution_count": 8,
     "metadata": {},
     "output_type": "execute_result"
    }
   ],
   "source": [
    "from functools import reduce\n",
    "def mul(x,y):\n",
    "    return x*y\n",
    "l1=[20,30,40,50]\n",
    "result=reduce(mul,l1)\n",
    "result"
   ]
  },
  {
   "cell_type": "markdown",
   "id": "6cb56d54-03c9-4701-b953-b079058f36fd",
   "metadata": {},
   "source": [
    "#### pandas functions"
   ]
  },
  {
   "cell_type": "code",
   "execution_count": 22,
   "id": "87999019-236c-462d-90c9-f77f4e554957",
   "metadata": {},
   "outputs": [
    {
     "name": "stdout",
     "output_type": "stream",
     "text": [
      "0    10\n",
      "1    20\n",
      "2    30\n",
      "3    40\n",
      "dtype: int64\n",
      "     names  marks\n",
      "0    priya     78\n",
      "1    megha     89\n",
      "2  spoorti     56\n",
      "3     anju     90\n",
      "4     teju     56\n",
      "     names  marks  total  average result\n",
      "0    priya     78    369     73.8   pass\n",
      "1    megha     89    369     73.8   pass\n",
      "2  spoorti     56    369     73.8   pass\n",
      "3     anju     90    369     73.8   pass\n",
      "4     teju     56    369     73.8   pass\n"
     ]
    }
   ],
   "source": [
    "import pandas as pd\n",
    "s=pd.Series([10,20,30,40])\n",
    "print(s)\n",
    "df=pd.DataFrame({'names':['priya','megha','spoorti','anju','teju'],\n",
    "                'marks':[78,89,56,90,56]})\n",
    "print(df)\n",
    "df.to_csv('df.csv',index=False)\n",
    "df=pd.read_csv('df.csv')\n",
    "df.head()\n",
    "df.tail()\n",
    "df.describe()\n",
    "df['names']\n",
    "df[['names','marks']]\n",
    "df.iloc[0]\n",
    "df.loc[0]\n",
    "df[df['marks']>80]\n",
    "df['total']=df['marks'].sum(axis=0)\n",
    "df['average']=df['marks'].mean(axis=0)\n",
    "df['result']=df['marks'].apply(lambda x:'pass' if x>45 else 'fail')\n",
    "df.drop(columns=['marks'])\n",
    "df.drop(index=1)\n",
    "df.isnull()\n",
    "df.dropna()\n",
    "df.fillna(0)\n",
    "df['marks'].sum()\n",
    "df['marks'].min()\n",
    "df['marks'].max()\n",
    "df['marks'].mean()\n",
    "df.sort_values('marks')\n",
    "df.sort_values('marks',ascending=False)\n",
    "print(df)\n",
    "\n",
    "\n",
    "\n"
   ]
  },
  {
   "cell_type": "code",
   "execution_count": null,
   "id": "b96aacdd-1f81-4c68-a9bf-7bfdb6793e60",
   "metadata": {},
   "outputs": [],
   "source": [
    "import pandas as pd\n",
    "marks={\"names\":['divya','bhoomi','sanju','sinchu','tanu'],\n",
    "        \"english\":[34,67,89,54,65,78],\n",
    "        \"math\":[78,76,89,90,67,56],\n",
    "        \"science\":[99,56,89,67,65]\n",
    "                     }\n",
    "df=pd.DataFrame(marks)\n",
    "print(df)"
   ]
  },
  {
   "cell_type": "code",
   "execution_count": 27,
   "id": "7b6f14f4-f360-4d78-a6b3-0a84e4cf3f92",
   "metadata": {},
   "outputs": [
    {
     "name": "stdout",
     "output_type": "stream",
     "text": [
      "      calories  duration\n",
      "day1       420        50\n",
      "day2       380        40\n",
      "day3       390        45\n"
     ]
    }
   ],
   "source": [
    "import pandas as pd\n",
    "\n",
    "data = {\n",
    "  \"calories\": [420, 380, 390],\n",
    "  \"duration\": [50, 40, 45]\n",
    "}\n",
    "df = pd.DataFrame(data, index = [\"day1\", \"day2\", \"day3\"])\n",
    "print(df) "
   ]
  },
  {
   "cell_type": "code",
   "execution_count": null,
   "id": "d55ac4b4-d71a-42d8-8532-4501d22b70e4",
   "metadata": {},
   "outputs": [],
   "source": []
  }
 ],
 "metadata": {
  "kernelspec": {
   "display_name": "Python 3 (ipykernel)",
   "language": "python",
   "name": "python3"
  },
  "language_info": {
   "codemirror_mode": {
    "name": "ipython",
    "version": 3
   },
   "file_extension": ".py",
   "mimetype": "text/x-python",
   "name": "python",
   "nbconvert_exporter": "python",
   "pygments_lexer": "ipython3",
   "version": "3.12.7"
  }
 },
 "nbformat": 4,
 "nbformat_minor": 5
}
