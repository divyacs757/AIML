{
 "cells": [
  {
   "cell_type": "code",
   "execution_count": 30,
   "id": "e1a8a4cf-b273-43d9-b9f8-ad5afd38f36f",
   "metadata": {},
   "outputs": [
    {
     "name": "stdout",
     "output_type": "stream",
     "text": [
      "DatetimeIndex(['2019-01-01', '2019-01-02', '2019-01-03', '2019-01-04',\n",
      "               '2019-01-05', '2019-01-06'],\n",
      "              dtype='datetime64[ns]', freq='D')\n"
     ]
    }
   ],
   "source": [
    "from datetime import datetime\n",
    "import pandas as pd\n",
    "range_date=pd.date_range(start='1/1/2019',end='1/6/2019',freq='d')\n",
    "print(range_date)"
   ]
  },
  {
   "cell_type": "code",
   "execution_count": 29,
   "id": "059f9016-5082-413a-b0ce-e4591f0ee1d5",
   "metadata": {},
   "outputs": [
    {
     "name": "stdout",
     "output_type": "stream",
     "text": [
      "DatetimeIndex(['2025-08-03', '2025-08-04', '2025-08-05', '2025-08-06',\n",
      "               '2025-08-07', '2025-08-08', '2025-08-09', '2025-08-10',\n",
      "               '2025-08-11', '2025-08-12', '2025-08-13', '2025-08-14',\n",
      "               '2025-08-15', '2025-08-16', '2025-08-17', '2025-08-18',\n",
      "               '2025-08-19', '2025-08-20', '2025-08-21', '2025-08-22',\n",
      "               '2025-08-23', '2025-08-24', '2025-08-25', '2025-08-26',\n",
      "               '2025-08-27', '2025-08-28', '2025-08-29', '2025-08-30',\n",
      "               '2025-08-31', '2025-09-01', '2025-09-02', '2025-09-03',\n",
      "               '2025-09-04', '2025-09-05', '2025-09-06', '2025-09-07',\n",
      "               '2025-09-08', '2025-09-09', '2025-09-10', '2025-09-11',\n",
      "               '2025-09-12', '2025-09-13', '2025-09-14', '2025-09-15',\n",
      "               '2025-09-16', '2025-09-17', '2025-09-18', '2025-09-19',\n",
      "               '2025-09-20', '2025-09-21', '2025-09-22', '2025-09-23'],\n",
      "              dtype='datetime64[ns]', freq='D')\n"
     ]
    }
   ],
   "source": [
    "from datetime import datetime\n",
    "import pandas as pd\n",
    "range_date=pd.date_range(start='8/3/2025',end='9/23/2025',freq='d')\n",
    "print(range_date)"
   ]
  },
  {
   "cell_type": "code",
   "execution_count": 31,
   "id": "c80bf706-f0f4-45db-9274-8162e17dc19c",
   "metadata": {},
   "outputs": [
    {
     "name": "stdout",
     "output_type": "stream",
     "text": [
      "DatetimeIndex(['2025-08-04 00:00:00', '2025-08-04 01:00:00',\n",
      "               '2025-08-04 02:00:00', '2025-08-04 03:00:00',\n",
      "               '2025-08-04 04:00:00', '2025-08-04 05:00:00',\n",
      "               '2025-08-04 06:00:00', '2025-08-04 07:00:00',\n",
      "               '2025-08-04 08:00:00', '2025-08-04 09:00:00',\n",
      "               ...\n",
      "               '2025-09-06 15:00:00', '2025-09-06 16:00:00',\n",
      "               '2025-09-06 17:00:00', '2025-09-06 18:00:00',\n",
      "               '2025-09-06 19:00:00', '2025-09-06 20:00:00',\n",
      "               '2025-09-06 21:00:00', '2025-09-06 22:00:00',\n",
      "               '2025-09-06 23:00:00', '2025-09-07 00:00:00'],\n",
      "              dtype='datetime64[ns]', length=817, freq='h')\n"
     ]
    }
   ],
   "source": [
    "from datetime import datetime\n",
    "import pandas as pd\n",
    "range_date=pd.date_range(start='8/4/2025',end='9/7/2025',freq='h')\n",
    "print(range_date)"
   ]
  },
  {
   "cell_type": "code",
   "execution_count": 22,
   "id": "9989a7ae-7139-4827-bb7b-2fbab55ed025",
   "metadata": {},
   "outputs": [
    {
     "name": "stdout",
     "output_type": "stream",
     "text": [
      "   python  dsp\n",
      "1      68   89\n",
      "2      90   45\n",
      "3      56   87\n",
      "4      78   98\n",
      "5      98   45\n",
      "      python    dsp\n",
      "min     56.0   45.0\n",
      "max     98.0   98.0\n",
      "mean    78.0   72.8\n",
      "sum    390.0  364.0\n",
      "390\n",
      "<bound method Series.sum of 1    89\n",
      "2    45\n",
      "3    87\n",
      "4    98\n",
      "5    45\n",
      "Name: dsp, dtype: int64>\n",
      "157\n"
     ]
    }
   ],
   "source": [
    "import pandas as pd\n",
    "marks={'python':[68,90,56,78,98],\n",
    "        'dsp':[89,45,87,98,45]\n",
    "}\n",
    "marks_df=pd.DataFrame(marks,index=([1,2,3,4,5]))\n",
    "print(marks_df)\n",
    "d=marks_df.agg(['min','max','mean','sum'])\n",
    "print(d)\n",
    "marks_df.count()\n",
    "f=marks_df['python'].sum()\n",
    "print(f)\n",
    "f=marks_df['dsp'].sum\n",
    "print(f)\n",
    "e=marks_df.loc[1].sum()\n",
    "print(e)"
   ]
  },
  {
   "cell_type": "code",
   "execution_count": 27,
   "id": "df5ad17d-8c33-494d-a58f-38df434b6035",
   "metadata": {},
   "outputs": [
    {
     "name": "stdout",
     "output_type": "stream",
     "text": [
      "DatetimeIndex(['1970-01-01', '1970-01-01', '1970-01-01', '1970-01-01',\n",
      "               '1970-01-01', '1970-01-01', '1970-01-01', '1970-01-01',\n",
      "               '1970-01-01', '1970-01-01', '1970-01-01', '1970-01-01',\n",
      "               '1970-01-01', '1970-01-01', '1970-01-01', '1970-01-01',\n",
      "               '1970-01-01', '1970-01-01', '1970-01-01', '1970-01-01',\n",
      "               '1970-01-01', '1970-01-01', '1970-01-01', '1970-01-01',\n",
      "               '1970-01-01'],\n",
      "              dtype='datetime64[ns]', freq=None)\n"
     ]
    }
   ],
   "source": [
    "import pandas as pd\n",
    "from datetime import datetime\n",
    "range_date=pd.date_range(start=6/10/2025,end=5/11/2025,periods=25)\n",
    "print(range_date)"
   ]
  },
  {
   "cell_type": "code",
   "execution_count": 1,
   "id": "1e213297-ce6b-4372-9609-c7cfb4bec6b2",
   "metadata": {},
   "outputs": [
    {
     "name": "stdout",
     "output_type": "stream",
     "text": [
      "DatetimeIndex(['2025-08-31'], dtype='datetime64[ns]', freq='ME')\n"
     ]
    }
   ],
   "source": [
    "from datetime import datetime\n",
    "import pandas as pd\n",
    "range_date=pd.date_range(start='8/4/2025',end='9/7/2025',freq='ME')\n",
    "print(range_date)"
   ]
  },
  {
   "cell_type": "code",
   "execution_count": 6,
   "id": "f9378de8-6e7b-43a3-8269-afd71a836809",
   "metadata": {},
   "outputs": [
    {
     "name": "stdout",
     "output_type": "stream",
     "text": [
      "   python  dsp\n",
      "1      90   78\n",
      "2      34   65\n",
      "3      54   78\n",
      "4      76   43\n",
      "5      89   23\n"
     ]
    }
   ],
   "source": [
    "import pandas as pd\n",
    "marks={\"python\":[90,34,54,76,89],\n",
    "       \"dsp\":[78,65,78,43,23]}\n",
    "df=pd.DataFrame(marks,index=([1,2,3,4,5]))\n",
    "print(df)\n",
    "\n"
   ]
  },
  {
   "cell_type": "code",
   "execution_count": null,
   "id": "8a604e21-9464-4570-a7f5-121b7e19cf4e",
   "metadata": {},
   "outputs": [],
   "source": []
  }
 ],
 "metadata": {
  "kernelspec": {
   "display_name": "Python 3 (ipykernel)",
   "language": "python",
   "name": "python3"
  },
  "language_info": {
   "codemirror_mode": {
    "name": "ipython",
    "version": 3
   },
   "file_extension": ".py",
   "mimetype": "text/x-python",
   "name": "python",
   "nbconvert_exporter": "python",
   "pygments_lexer": "ipython3",
   "version": "3.12.7"
  }
 },
 "nbformat": 4,
 "nbformat_minor": 5
}
